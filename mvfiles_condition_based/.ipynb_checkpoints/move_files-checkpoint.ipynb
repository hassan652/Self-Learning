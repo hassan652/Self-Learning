{
 "cells": [
  {
   "cell_type": "code",
   "execution_count": 38,
   "id": "1d25dcd6-3a0b-49eb-bf86-a39a1d440ef0",
   "metadata": {},
   "outputs": [],
   "source": [
    "import os\n",
    "from shutil import copyfile\n",
    "import shutil"
   ]
  },
  {
   "cell_type": "code",
   "execution_count": 39,
   "id": "cc8b05ee-c501-4ad4-b694-bdd0052a4102",
   "metadata": {},
   "outputs": [],
   "source": [
    "json = r\"C:\\Users\\hassa\\Desktop\\Parent\\Txtpic\"\n",
    "images = r\"C:\\Users\\hassa\\Desktop\\Parent\\Pictures\""
   ]
  },
  {
   "cell_type": "code",
   "execution_count": 43,
   "id": "9390b2b6-cc49-434d-b1d0-b458770a24bb",
   "metadata": {},
   "outputs": [],
   "source": [
    "for filename in os.listdir(json):\n",
    "    pre, ext = os.path.splitext(filename)\n",
    "    check = pre + \".bmp\"  #use \".png\" instead of \".bmp\" (rename feature can also work here)\n",
    "    for img in os.listdir(images):\n",
    "        if img == check:\n",
    "            #print(img) #if you want to check which images will be taken from the images folder\n",
    "            src = os.path.join(images,img)\n",
    "            dst = os.path.join(json,img)\n",
    "            shutil.copyfile(src, dst)"
   ]
  },
  {
   "cell_type": "code",
   "execution_count": null,
   "id": "b3fed40b-2001-4ee9-8fa1-021415f155bc",
   "metadata": {},
   "outputs": [],
   "source": []
  }
 ],
 "metadata": {
  "kernelspec": {
   "display_name": "Python 3",
   "language": "python",
   "name": "python3"
  },
  "language_info": {
   "codemirror_mode": {
    "name": "ipython",
    "version": 3
   },
   "file_extension": ".py",
   "mimetype": "text/x-python",
   "name": "python",
   "nbconvert_exporter": "python",
   "pygments_lexer": "ipython3",
   "version": "3.9.1"
  }
 },
 "nbformat": 4,
 "nbformat_minor": 5
}
